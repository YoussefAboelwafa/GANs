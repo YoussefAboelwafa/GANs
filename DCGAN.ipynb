{
 "cells": [
  {
   "cell_type": "code",
   "execution_count": 7,
   "metadata": {},
   "outputs": [],
   "source": [
    "import torch\n",
    "import torch.nn as nn\n",
    "import torchvision\n",
    "import torchvision.transforms as transforms\n",
    "import torchvision.datasets as datasets\n",
    "from torch.utils.data import DataLoader\n",
    "import matplotlib.pyplot as plt\n",
    "import numpy as np"
   ]
  },
  {
   "cell_type": "markdown",
   "metadata": {},
   "source": [
    "## Generator\n"
   ]
  },
  {
   "cell_type": "code",
   "execution_count": 3,
   "metadata": {},
   "outputs": [],
   "source": [
    "def gen_block(in_dim, out_dim, kernel_size, stride):\n",
    "    return nn.Sequential(\n",
    "        nn.ConvTranspose2d(in_dim, out_dim, kernel_size, stride=stride),\n",
    "        nn.BatchNorm2d(out_dim),\n",
    "        nn.ReLU()\n",
    "    )\n",
    "    \n",
    "class Generator(nn.Module):\n",
    "    def __init__(self, in_dim, kernel_size=2, stride=2):\n",
    "        super(Generator, self).__init__()\n",
    "        self.in_dim = in_dim\n",
    "        self.gen = nn.Sequential(\n",
    "            gen_block(in_dim, 1024, kernel_size, stride),\n",
    "            gen_block(1024, 512, kernel_size, stride),\n",
    "            gen_block(512, 256, kernel_size, stride),\n",
    "            gen_block(256, 128, kernel_size, stride),\n",
    "            nn.ConvTranspose2d(128, 1, kernel_size, stride=stride),\n",
    "            nn.Tanh()\n",
    "        )\n",
    "        \n",
    "    def forward(self, x):\n",
    "        x = x.view(len(x), self.in_dim, 1, 1)\n",
    "        return self.gen(x)"
   ]
  },
  {
   "cell_type": "markdown",
   "metadata": {},
   "source": [
    "## Discriminator\n"
   ]
  },
  {
   "cell_type": "code",
   "execution_count": 4,
   "metadata": {},
   "outputs": [],
   "source": [
    "def disc_block(in_dim, out_dim, kernel_size, stride):\n",
    "    return nn.Sequential(\n",
    "        nn.Conv2d(in_dim, out_dim, kernel_size, stride=stride),\n",
    "        nn.BatchNorm2d(out_dim),\n",
    "        nn.LeakyReLU(0.2)\n",
    "    )\n",
    "    \n",
    "class Discriminator(nn.Module):\n",
    "    def __init__(self, kernel_size=2, stride=2):\n",
    "        super(Discriminator, self).__init__()\n",
    "        self.disc = nn.Sequential(\n",
    "            disc_block(1, 128, kernel_size, stride),\n",
    "            disc_block(128, 256, kernel_size, stride),\n",
    "            disc_block(256, 512, kernel_size, stride),\n",
    "            disc_block(512, 1024, kernel_size, stride),\n",
    "            nn.Conv2d(1024, 1, kernel_size, stride=stride),\n",
    "        )\n",
    "\n",
    "    def forward(self, x):\n",
    "        x = self.disc(x)\n",
    "        return x.view(len(x), -1)"
   ]
  },
  {
   "cell_type": "markdown",
   "metadata": {},
   "source": [
    "## Losses\n"
   ]
  },
  {
   "cell_type": "code",
   "execution_count": 5,
   "metadata": {},
   "outputs": [],
   "source": [
    "def gen_loss(gen, disc, num_images, z_dim):\n",
    "    noise = torch.randn(num_images, z_dim)\n",
    "    fake = gen(noise)\n",
    "    disc_pred = disc(fake)\n",
    "    criterion = nn.BCEWithLogitsLoss()\n",
    "    gen_loss = criterion(disc_pred, torch.ones_like(disc_pred))\n",
    "    return gen_loss\n",
    "\n",
    "def disc_loss(gen, disc, real, num_images, z_dim):\n",
    "    criterion = nn.BCEWithLogitsLoss()\n",
    "    noise = torch.randn(num_images, z_dim)\n",
    "    fake = gen(noise)\n",
    "    disc_pred_fake = disc(fake)\n",
    "    fake_loss = criterion(disc_pred_fake, torch.zeros_like(disc_pred_fake))\n",
    "    disc_pred_real = disc(real)\n",
    "    real_loss = criterion(disc_pred_real, torch.ones_like(disc_pred_real))\n",
    "    disc_loss = (real_loss + fake_loss) / 2\n",
    "    return disc_loss"
   ]
  },
  {
   "cell_type": "code",
   "execution_count": 6,
   "metadata": {},
   "outputs": [
    {
     "name": "stdout",
     "output_type": "stream",
     "text": [
      "Generated Images Shape: torch.Size([16, 1, 32, 32])\n",
      "Discriminator Output Shape: torch.Size([16, 1])\n",
      "Discriminator Output: tensor([[-0.1464],\n",
      "        [ 0.6151],\n",
      "        [ 0.3880],\n",
      "        [ 0.4352],\n",
      "        [ 0.4317],\n",
      "        [-0.3247],\n",
      "        [ 0.4826],\n",
      "        [-0.6484],\n",
      "        [ 0.5375],\n",
      "        [-0.1112],\n",
      "        [-0.0263],\n",
      "        [-0.4229],\n",
      "        [ 0.2592],\n",
      "        [-0.2507],\n",
      "        [-0.1231],\n",
      "        [-0.2539]], grad_fn=<ViewBackward0>)\n"
     ]
    }
   ],
   "source": [
    "batch_size = 16\n",
    "noise_dim = 100\n",
    "\n",
    "noise = torch.randn(batch_size, noise_dim)\n",
    "\n",
    "gen = Generator(in_dim=noise_dim)\n",
    "generated_images = gen(noise)\n",
    "print(\"Generated Images Shape:\", generated_images.shape)\n",
    "\n",
    "disc = Discriminator()\n",
    "disc_output = disc(generated_images)\n",
    "print(\"Discriminator Output Shape:\", disc_output.shape)"
   ]
  }
 ],
 "metadata": {
  "kernelspec": {
   "display_name": "cv",
   "language": "python",
   "name": "python3"
  },
  "language_info": {
   "codemirror_mode": {
    "name": "ipython",
    "version": 3
   },
   "file_extension": ".py",
   "mimetype": "text/x-python",
   "name": "python",
   "nbconvert_exporter": "python",
   "pygments_lexer": "ipython3",
   "version": "3.10.14"
  }
 },
 "nbformat": 4,
 "nbformat_minor": 2
}
