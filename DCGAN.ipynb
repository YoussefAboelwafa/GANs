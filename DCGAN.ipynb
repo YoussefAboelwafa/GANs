{
 "cells": [
  {
   "cell_type": "code",
   "execution_count": 7,
   "metadata": {},
   "outputs": [],
   "source": [
    "fake_samples = generator(torch.randn(64, latent_dim, 1, 1).cuda())\n",
    "fake_samples = fake_samples.cpu()\n",
    "fake_grid = torchvision.utils.make_grid(fake_samples, padding=2, normalize=True)\n",
    "plt.imshow(np.transpose(fake_grid, (1, 2, 0)))\n",
    "plt.axis('off')\n",
    "plt.show()"
   ]
  }
 ],
 "metadata": {
  "kernelspec": {
   "display_name": "cv",
   "language": "python",
   "name": "python3"
  },
  "language_info": {
   "codemirror_mode": {
    "name": "ipython",
    "version": 3
   },
   "file_extension": ".py",
   "mimetype": "text/x-python",
   "name": "python",
   "nbconvert_exporter": "python",
   "pygments_lexer": "ipython3",
   "version": "3.10.14"
  }
 },
 "nbformat": 4,
 "nbformat_minor": 2
}
